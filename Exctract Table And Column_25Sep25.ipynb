#Add Cell and paste below
!pip install sql-metadata
!pip install sqlparse
!pip install sqlglot
!pip install pandas
!pip install pandas openpyxl
!pip install cx_Oracle



#Add Cell and paste below
from sql_metadata import Parser
#from sql_metadata.compat import get_query_columns, get_query_tables

with open("complex_oracle_query.sql", 'r', encoding='utf-8') as f:
            sqlqry = f.read()


Parser(sqlqry.upper()).tables


#Output will display below
['TABLE_NAME1',
 'TABLE_NAME2']
