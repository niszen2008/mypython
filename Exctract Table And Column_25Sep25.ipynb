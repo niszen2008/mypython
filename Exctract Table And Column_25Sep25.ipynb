{
 "cells": [
  {
   "cell_type": "code",
   "execution_count": null,
   "metadata": {},
   "outputs": [],
   "source": [
    "!pip install sql-metadata\n",
    "!pip install sqlparse\n",
    "!pip install sqlglot\n",
    "!pip install pandas\n",
    "!pip install pandas openpyxl\n",
    "!pip install cx_Oracle\n"
   ]
  },
  {
   "cell_type": "code",
   "execution_count": 125,
   "metadata": {},
   "outputs": [
    {
     "data": {
      "text/plain": [
       "['main.*', 'special_chrg', 'fee', 'amount_min', 'amount_max']"
      ]
     },
     "execution_count": 125,
     "metadata": {},
     "output_type": "execute_result"
    }
   ],
   "source": [
    "from sql_metadata import Parser\n",
    "#from sql_metadata.compat import get_query_columns, get_query_tables\n",
    "\n",
    "sqlqry = \"\"\" \n",
    "( select main.*,special_chrg as settlement_Amount, fee as wiring_fee\n",
    "from main\n",
    "left outer join stream_tw_commission   b \n",
    "     on special_chrg BETWEEN amount_min AND amount_max \n",
    "    -- or abs(mod(special_chrg, 50000000)) BETWEEN b.amount_min AND b.amount_max\n",
    "     where special_chrg is not null)\n",
    "\"\"\"\n",
    "\n",
    "\n",
    "Parser(sqlqry.lower()).columns\n"
   ]
  }
 ],
 "metadata": {
  "kernelspec": {
   "display_name": "Python 3",
   "language": "python",
   "name": "python3"
  },
  "language_info": {
   "codemirror_mode": {
    "name": "ipython",
    "version": 3
   },
   "file_extension": ".py",
   "mimetype": "text/x-python",
   "name": "python",
   "nbconvert_exporter": "python",
   "pygments_lexer": "ipython3",
   "version": "3.13.2"
  }
 },
 "nbformat": 4,
 "nbformat_minor": 2
}
